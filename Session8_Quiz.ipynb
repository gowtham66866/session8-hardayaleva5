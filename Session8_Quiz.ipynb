{
  "nbformat": 4,
  "nbformat_minor": 0,
  "metadata": {
    "colab": {
      "name": "Session8_Quiz.ipynb",
      "provenance": [],
      "collapsed_sections": []
    },
    "kernelspec": {
      "name": "python3",
      "display_name": "Python 3"
    }
  },
  "cells": [
    {
      "cell_type": "markdown",
      "metadata": {
        "id": "25veXyct8lhP",
        "colab_type": "text"
      },
      "source": [
        "**Question:**  A webpage has 4 buttons - 1, 2, 3, 4. \n",
        "\n",
        "Write a function/closure such that we can track how many times each button was pressed. To simulate different users, pass on/maintain separate dictionaries. \n",
        "\n",
        "Assume a function called onClick(4) will be called when 4th button is pressed, and so on. "
      ]
    },
    {
      "cell_type": "code",
      "metadata": {
        "id": "iwEdsk1dIiG9",
        "colab_type": "code",
        "colab": {}
      },
      "source": [
        "def Session8_Quiz(function,user_click_dict):\n",
        "    \n",
        "    \"\"\"\n",
        "    :param function: Function that needs to be counted\n",
        "    :return: closure that can count number of times a function is executed and store the same in dictionary at user level\n",
        "    We wrote a closure that counts how many times a function was called. Write a new one \n",
        "    that can keep a track of how many times add/mul/div functions were called, and update a global dictionary variable with the counts\n",
        "    \"\"\"\n",
        "    \n",
        "    user_click_dict[function.__name__] = 0\n",
        "\n",
        "    def inner_method(*args, **kwargs):\n",
        "        nonlocal user_click_dict\n",
        "        user_click_dict[function.__name__] += 1\n",
        "        print('{0} has been called {1} times'.format(function.__name__, user_click_dict[function.__name__]))\n",
        "        return function(*args, **kwargs)\n",
        "\n",
        "    return inner_method\n"
      ],
      "execution_count": 1,
      "outputs": []
    },
    {
      "cell_type": "code",
      "metadata": {
        "id": "ySnWSnWO8SqV",
        "colab_type": "code",
        "colab": {}
      },
      "source": [
        "def onClick_1():\n",
        "    \"\"\"\n",
        "    Clicks button 1\n",
        "    \"\"\"\n",
        "    print('1st button is pressed')\n",
        "\n",
        "def onClick_2():\n",
        "    \"\"\"\n",
        "    Clicks button 2\n",
        "    \"\"\"\n",
        "    print('2nd button is pressed')\n",
        "\n",
        "def onClick_3():\n",
        "    \"\"\"\n",
        "    Clicks button 3\n",
        "    \"\"\"\n",
        "    print('3rd button is pressed')\n",
        "\n",
        "def onClick_4():\n",
        "    \"\"\"\n",
        "    Clicks button 4\n",
        "    \"\"\"\n",
        "    print('4th button is pressed')"
      ],
      "execution_count": 2,
      "outputs": []
    },
    {
      "cell_type": "code",
      "metadata": {
        "id": "7Fp3ly2BJgbN",
        "colab_type": "code",
        "colab": {}
      },
      "source": [
        "user_click_dict = dict()\n",
        "counter1 = Session8_Quiz(onClick_1,user_click_dict)\n",
        "counter2 = Session8_Quiz(onClick_2,user_click_dict)\n",
        "counter3 = Session8_Quiz(onClick_3,user_click_dict)\n",
        "counter4 = Session8_Quiz(onClick_4,user_click_dict)"
      ],
      "execution_count": 3,
      "outputs": []
    },
    {
      "cell_type": "code",
      "metadata": {
        "id": "-QuXoja-JkDK",
        "colab_type": "code",
        "colab": {
          "base_uri": "https://localhost:8080/",
          "height": 1000
        },
        "outputId": "59168cea-76fb-4db8-9339-e942da924684"
      },
      "source": [
        "for cnt in range(40):\n",
        "    if cnt%4 == 0:\n",
        "        counter1()\n",
        "    elif cnt%4 == 1:\n",
        "        counter2()\n",
        "    elif cnt%4 == 2:\n",
        "        counter3()\n",
        "    else:\n",
        "        counter4()"
      ],
      "execution_count": 4,
      "outputs": [
        {
          "output_type": "stream",
          "text": [
            "onClick_1 has been called 1 times\n",
            "1st button is pressed\n",
            "onClick_2 has been called 1 times\n",
            "2nd button is pressed\n",
            "onClick_3 has been called 1 times\n",
            "3rd button is pressed\n",
            "onClick_4 has been called 1 times\n",
            "4th button is pressed\n",
            "onClick_1 has been called 2 times\n",
            "1st button is pressed\n",
            "onClick_2 has been called 2 times\n",
            "2nd button is pressed\n",
            "onClick_3 has been called 2 times\n",
            "3rd button is pressed\n",
            "onClick_4 has been called 2 times\n",
            "4th button is pressed\n",
            "onClick_1 has been called 3 times\n",
            "1st button is pressed\n",
            "onClick_2 has been called 3 times\n",
            "2nd button is pressed\n",
            "onClick_3 has been called 3 times\n",
            "3rd button is pressed\n",
            "onClick_4 has been called 3 times\n",
            "4th button is pressed\n",
            "onClick_1 has been called 4 times\n",
            "1st button is pressed\n",
            "onClick_2 has been called 4 times\n",
            "2nd button is pressed\n",
            "onClick_3 has been called 4 times\n",
            "3rd button is pressed\n",
            "onClick_4 has been called 4 times\n",
            "4th button is pressed\n",
            "onClick_1 has been called 5 times\n",
            "1st button is pressed\n",
            "onClick_2 has been called 5 times\n",
            "2nd button is pressed\n",
            "onClick_3 has been called 5 times\n",
            "3rd button is pressed\n",
            "onClick_4 has been called 5 times\n",
            "4th button is pressed\n",
            "onClick_1 has been called 6 times\n",
            "1st button is pressed\n",
            "onClick_2 has been called 6 times\n",
            "2nd button is pressed\n",
            "onClick_3 has been called 6 times\n",
            "3rd button is pressed\n",
            "onClick_4 has been called 6 times\n",
            "4th button is pressed\n",
            "onClick_1 has been called 7 times\n",
            "1st button is pressed\n",
            "onClick_2 has been called 7 times\n",
            "2nd button is pressed\n",
            "onClick_3 has been called 7 times\n",
            "3rd button is pressed\n",
            "onClick_4 has been called 7 times\n",
            "4th button is pressed\n",
            "onClick_1 has been called 8 times\n",
            "1st button is pressed\n",
            "onClick_2 has been called 8 times\n",
            "2nd button is pressed\n",
            "onClick_3 has been called 8 times\n",
            "3rd button is pressed\n",
            "onClick_4 has been called 8 times\n",
            "4th button is pressed\n",
            "onClick_1 has been called 9 times\n",
            "1st button is pressed\n",
            "onClick_2 has been called 9 times\n",
            "2nd button is pressed\n",
            "onClick_3 has been called 9 times\n",
            "3rd button is pressed\n",
            "onClick_4 has been called 9 times\n",
            "4th button is pressed\n",
            "onClick_1 has been called 10 times\n",
            "1st button is pressed\n",
            "onClick_2 has been called 10 times\n",
            "2nd button is pressed\n",
            "onClick_3 has been called 10 times\n",
            "3rd button is pressed\n",
            "onClick_4 has been called 10 times\n",
            "4th button is pressed\n"
          ],
          "name": "stdout"
        }
      ]
    },
    {
      "cell_type": "code",
      "metadata": {
        "id": "IpBvIxMDJke5",
        "colab_type": "code",
        "colab": {
          "base_uri": "https://localhost:8080/",
          "height": 34
        },
        "outputId": "4757707a-2c42-4126-9b1f-2ff55dbc5263"
      },
      "source": [
        "user_click_dict"
      ],
      "execution_count": 5,
      "outputs": [
        {
          "output_type": "execute_result",
          "data": {
            "text/plain": [
              "{'onClick_1': 10, 'onClick_2': 10, 'onClick_3': 10, 'onClick_4': 10}"
            ]
          },
          "metadata": {
            "tags": []
          },
          "execution_count": 5
        }
      ]
    }
  ]
}